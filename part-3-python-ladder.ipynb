{
 "cells": [
  {
   "cell_type": "markdown",
   "metadata": {},
   "source": [
    "<img src=\"http://imgur.com/1ZcRyrc.png\" style=\"float: left; margin: 20px; height: 55px\" />\n",
    "\n",
    "# Python Ladder Challenge - Notebook 3\n",
    "\n",
    "_Author:_ Tim Book"
   ]
  },
  {
   "cell_type": "markdown",
   "metadata": {},
   "source": [
    "# Climb the Ladder!\n",
    "Our class moves quickly! Sometimes, it feels like we make leaps in logic that are a bit too big. Learn Python _slowly_, by doing many, many examples. Problems in this notebook start out easy and progressively get harder, so that the next rung of the Python ladder is always within reach."
   ]
  },
  {
   "cell_type": "markdown",
   "metadata": {},
   "source": [
    "# Section VII: Functions\n",
    "In this section, every question gives example(s). You can (but don't need to) name your function accordingly. You _should_ test out the example to make sure your function works properly. If the example doesn't work, your answer is likely incorrect."
   ]
  },
  {
   "cell_type": "markdown",
   "metadata": {},
   "source": [
    "72) Write a function to compute the area of a triangle. You only need the base and height of a triangle to compute its area.\n",
    "\n",
    "* _Example:_ `area_triangle(5, 4) == 10.0`"
   ]
  },
  {
   "cell_type": "code",
   "execution_count": 5,
   "metadata": {},
   "outputs": [
    {
     "name": "stdout",
     "output_type": "stream",
     "text": [
      "10.0\n",
      "True\n"
     ]
    }
   ],
   "source": [
    "def area_triangle(height, base):\n",
    "    return height / 2 * base\n",
    "\n",
    "print(area_triangle(5, 4))\n",
    "# check result\n",
    "print(area_triangle(5, 4) == 10.0)"
   ]
  },
  {
   "cell_type": "markdown",
   "metadata": {},
   "source": [
    "73) Import `pi` from `math` and write a function to compute the area of a circle. You only need the radius of a circle to compute its area.\n",
    "\n",
    "* _Example:_ `area_circle(10) == 314.159...`"
   ]
  },
  {
   "cell_type": "code",
   "execution_count": 7,
   "metadata": {},
   "outputs": [
    {
     "data": {
      "text/plain": [
       "314.1592653589793"
      ]
     },
     "execution_count": 7,
     "metadata": {},
     "output_type": "execute_result"
    }
   ],
   "source": [
    "from math import pi\n",
    "\n",
    "def area_circle(radius):\n",
    "    return pi * radius ** 2\n",
    "\n",
    "area_circle(10)"
   ]
  },
  {
   "cell_type": "markdown",
   "metadata": {},
   "source": [
    "74) Write a function that takes in a number `max_num` and returns the sum of the numbers 1 through `max_num` (inclusive).\n",
    "* _Example:_ `sum_n(5) == 1 + 2 + 3 + 4 + 5 == 15`"
   ]
  },
  {
   "cell_type": "code",
   "execution_count": 9,
   "metadata": {},
   "outputs": [
    {
     "name": "stdout",
     "output_type": "stream",
     "text": [
      "15\n",
      "True\n"
     ]
    }
   ],
   "source": [
    "def sum_n(max_num):\n",
    "    return sum(range(1, max_num+1))\n",
    "\n",
    "print(sum_n(5))\n",
    "# check result\n",
    "print(sum_n(5) == 15)"
   ]
  },
  {
   "cell_type": "markdown",
   "metadata": {},
   "source": [
    "75) Write a function that takes in a number `max_num` and returns the sum of the square of the numbers 1 through `max_num` (inclusive).\n",
    "* `sum_squares(5) == 1 + 4 + 9 + 16 + 25 == 55`"
   ]
  },
  {
   "cell_type": "code",
   "execution_count": 11,
   "metadata": {},
   "outputs": [
    {
     "name": "stdout",
     "output_type": "stream",
     "text": [
      "55\n"
     ]
    },
    {
     "data": {
      "text/plain": [
       "True"
      ]
     },
     "execution_count": 11,
     "metadata": {},
     "output_type": "execute_result"
    }
   ],
   "source": [
    "def sum_squares(max_num):\n",
    "    return sum([num ** 2 for num in range(1, max_num+1)])\n",
    "\n",
    "print(sum_squares(5))\n",
    "# check result\n",
    "sum_squares(5) == 55"
   ]
  },
  {
   "cell_type": "markdown",
   "metadata": {},
   "source": [
    "76) Write a function that takes a number (an amount in euros) and convert it to U.S. dollars. There are 1.1 U.S. dollars per euro.\n",
    "* `to_dollar(10) == 11.0`"
   ]
  },
  {
   "cell_type": "code",
   "execution_count": 13,
   "metadata": {},
   "outputs": [
    {
     "data": {
      "text/plain": [
       "11.0"
      ]
     },
     "execution_count": 13,
     "metadata": {},
     "output_type": "execute_result"
    }
   ],
   "source": [
    "def to_dollar(euro):\n",
    "    return euro * 1.1\n",
    "    \n",
    "to_dollar(10)"
   ]
  },
  {
   "cell_type": "markdown",
   "metadata": {},
   "source": [
    "76) Write a function that takes a list of numbers (amounts in euros), and returns them converted to dollars. Use your answer to the previous question in your answer to this question.\n",
    "* _Example:_ `to_dollar_list([1, 10, 100]) == [1.1, 11.0, 110.0]`\n",
    "* _Note:_ You may get some decimal weirdness here."
   ]
  },
  {
   "cell_type": "code",
   "execution_count": 15,
   "metadata": {},
   "outputs": [
    {
     "data": {
      "text/plain": [
       "[1.1, 11.0, 110.00000000000001]"
      ]
     },
     "execution_count": 15,
     "metadata": {},
     "output_type": "execute_result"
    }
   ],
   "source": [
    "def to_dollar_list(euros):\n",
    "    return [euro * 1.1 for euro in euros]\n",
    "\n",
    "to_dollar_list([1, 10, 100])"
   ]
  },
  {
   "cell_type": "markdown",
   "metadata": {},
   "source": [
    "77) Write a function that takes a number (a person's height) and returns \"Tall enough\" if they are at least 5 feet (60 inches) or \"Too short\" if they are below 5 feet.\n",
    "* _Example:_ `is_tall(72) == 'Tall enough'`\n",
    "* _Example:_ `is_tall(52) == 'Too short'`"
   ]
  },
  {
   "cell_type": "code",
   "execution_count": 17,
   "metadata": {},
   "outputs": [
    {
     "name": "stdout",
     "output_type": "stream",
     "text": [
      "Tall enough\n",
      "Too short\n"
     ]
    }
   ],
   "source": [
    "def is_tall(height):\n",
    "    if height >= 60:\n",
    "        return \"Tall enough\"\n",
    "    else:\n",
    "        return \"Too short\"\n",
    "\n",
    "print(is_tall(72))\n",
    "print(is_tall(52))"
   ]
  },
  {
   "cell_type": "markdown",
   "metadata": {},
   "source": [
    "78) Write a function that takes a list of numbers (peoples' heights) and returns a list of strings \"Tall enough\" or \"Too short\" as in the previous problem. Use your answer to the previous problem to help answer this problem.\n",
    "* _Example:_ `is_tall_list([58, 70, 60]) == ['Too short', 'Tall enough', 'Tall enough']`"
   ]
  },
  {
   "cell_type": "code",
   "execution_count": 19,
   "metadata": {},
   "outputs": [
    {
     "data": {
      "text/plain": [
       "['Too short', 'Tall enough', 'Tall enough']"
      ]
     },
     "execution_count": 19,
     "metadata": {},
     "output_type": "execute_result"
    }
   ],
   "source": [
    "def is_tall_list(heights):\n",
    "    return [\"Tall enough\" if height >= 60 else \"Too short\" for height in heights]\n",
    "\n",
    "is_tall_list([58, 70, 60])"
   ]
  },
  {
   "cell_type": "markdown",
   "metadata": {},
   "source": [
    "79) Write a function that takes in a numeric grade (0 to 100) and returns the letter grade (no pluses or minuses). In a traditional rubric, that would be as follows:\n",
    "\n",
    "* 90 or above = A\n",
    "* 80 - 89 = B\n",
    "* 70 - 79 = C\n",
    "* 60 - 69 = D\n",
    "* 59 or below = F\n",
    "    \n",
    "    \n",
    "* _Example:_ `letter_grade(85) == 'B'`"
   ]
  },
  {
   "cell_type": "code",
   "execution_count": 21,
   "metadata": {},
   "outputs": [
    {
     "name": "stdout",
     "output_type": "stream",
     "text": [
      "B\n"
     ]
    }
   ],
   "source": [
    "def letter_grade(score):\n",
    "    if score >= 90:\n",
    "        return \"A\"\n",
    "    elif score >= 80:\n",
    "        return \"B\"\n",
    "    elif score >= 70:\n",
    "        return \"C\"\n",
    "    elif score >= 60:\n",
    "        return \"D\"\n",
    "    else:\n",
    "        return \"F\"\n",
    "\n",
    "print(letter_grade(85))"
   ]
  },
  {
   "cell_type": "markdown",
   "metadata": {},
   "source": [
    "80) Write _another_ function that takes a list of numeric grades and returns their letter grades. Use the function written above in your answer.\n",
    "\n",
    "* _Example:_ `letter_grades([85, 62, 90]) == ['B', 'D', 'A']`"
   ]
  },
  {
   "cell_type": "code",
   "execution_count": 23,
   "metadata": {},
   "outputs": [
    {
     "data": {
      "text/plain": [
       "['B', 'D', 'A']"
      ]
     },
     "execution_count": 23,
     "metadata": {},
     "output_type": "execute_result"
    }
   ],
   "source": [
    "def letter_grades(scores):\n",
    "    return [letter_grade(score) for score in scores]\n",
    "\n",
    "letter_grades([85, 62, 90])"
   ]
  },
  {
   "cell_type": "markdown",
   "metadata": {},
   "source": [
    "81) Write a function that takes in a string and returns the number of vowels in that string. (No, y is not a vowel).\n",
    "* _Example:_ `vowel_count('General Assembly') == 5`"
   ]
  },
  {
   "cell_type": "code",
   "execution_count": 25,
   "metadata": {},
   "outputs": [
    {
     "name": "stdout",
     "output_type": "stream",
     "text": [
      "5\n"
     ]
    },
    {
     "data": {
      "text/plain": [
       "True"
      ]
     },
     "execution_count": 25,
     "metadata": {},
     "output_type": "execute_result"
    }
   ],
   "source": [
    "def vowel_count(word):\n",
    "    return sum([1 if char.lower() in 'aeiou' else 0 for char in word])\n",
    "\n",
    "print(vowel_count('General Assembly'))\n",
    "# check result\n",
    "vowel_count('General Assembly') == 5"
   ]
  },
  {
   "cell_type": "markdown",
   "metadata": {},
   "source": [
    "82) Write a function that takes in a string and returns that string with its consonants capitalized and vowels lowercased.\n",
    "\n",
    "* _Example:_ `toggle_case('General Assembly') == 'GeNeRaL aSSeMBLY'`"
   ]
  },
  {
   "cell_type": "code",
   "execution_count": 27,
   "metadata": {},
   "outputs": [
    {
     "name": "stdout",
     "output_type": "stream",
     "text": [
      "GeNeRaL aSSeMBLY\n"
     ]
    },
    {
     "data": {
      "text/plain": [
       "True"
      ]
     },
     "execution_count": 27,
     "metadata": {},
     "output_type": "execute_result"
    }
   ],
   "source": [
    "def toggle_case(word):\n",
    "    return ''.join([char.lower() if char.lower() in 'aeiou' else char.upper() for char in word])\n",
    "\n",
    "print(toggle_case('General Assembly'))\n",
    "# check result\n",
    "toggle_case('General Assembly') == 'GeNeRaL aSSeMBLY'"
   ]
  },
  {
   "cell_type": "markdown",
   "metadata": {},
   "source": [
    "83) Write a function that takes in a string and returns that string with its vowels removed.\n",
    "* _Example:_ `disemvowel('Python is my favorite language') == 'Pythn s my fvrt lngg'`"
   ]
  },
  {
   "cell_type": "code",
   "execution_count": 29,
   "metadata": {},
   "outputs": [
    {
     "name": "stdout",
     "output_type": "stream",
     "text": [
      "Pythn s my fvrt lngg\n"
     ]
    },
    {
     "data": {
      "text/plain": [
       "True"
      ]
     },
     "execution_count": 29,
     "metadata": {},
     "output_type": "execute_result"
    }
   ],
   "source": [
    "def disemvowel(word):\n",
    "    return ''.join([char for char in word if char.lower() not in 'aeiou'])\n",
    "\n",
    "print(disemvowel('Python is my favorite language'))\n",
    "# check result\n",
    "disemvowel('Python is my favorite language') == 'Pythn s my fvrt lngg'"
   ]
  },
  {
   "cell_type": "markdown",
   "metadata": {},
   "source": [
    "84) Write a function that takes in a string and returns that string with its vowels removed _unless it's a one-letter word_, in which case leave the vowel intact. You should use your answer in the previous problem to answer this.\n",
    "* _Example:_ `smart_disemvowel('I love Python programming') == 'I lv Pythn prgrmmng'`"
   ]
  },
  {
   "cell_type": "code",
   "execution_count": 31,
   "metadata": {},
   "outputs": [
    {
     "name": "stdout",
     "output_type": "stream",
     "text": [
      "I lv Pythn prgrmmng\n"
     ]
    },
    {
     "data": {
      "text/plain": [
       "True"
      ]
     },
     "execution_count": 31,
     "metadata": {},
     "output_type": "execute_result"
    }
   ],
   "source": [
    "def smart_disemvowel(word):\n",
    "    def disemvowel(word):\n",
    "        return ''.join([char for char in word if char.lower() not in 'aeiou'])\n",
    "    \n",
    "    return ' '.join([disemvowel(char) if len(char)>1 else char for char in word.split()])\n",
    "    \n",
    "print(smart_disemvowel('I love Python programming'))\n",
    "smart_disemvowel('I love Python programming') == 'I lv Pythn prgrmmng'"
   ]
  },
  {
   "cell_type": "markdown",
   "metadata": {},
   "source": [
    "85) Write a function that takes in a string (likely multiple words long) and returns that string with the order of the words reversed.\n",
    "* _Example:_ `word_reverser('Data science is cool') == 'cool is science Data'`"
   ]
  },
  {
   "cell_type": "code",
   "execution_count": 33,
   "metadata": {},
   "outputs": [
    {
     "name": "stdout",
     "output_type": "stream",
     "text": [
      "cool is science Data\n"
     ]
    },
    {
     "data": {
      "text/plain": [
       "True"
      ]
     },
     "execution_count": 33,
     "metadata": {},
     "output_type": "execute_result"
    }
   ],
   "source": [
    "def word_reverser(words):\n",
    "    return ' '.join([word for word in words.split()[::-1]])\n",
    "\n",
    "print(word_reverser('Data science is cool'))\n",
    "# check result\n",
    "word_reverser('Data science is cool') == 'cool is science Data'"
   ]
  },
  {
   "cell_type": "markdown",
   "metadata": {},
   "source": [
    "86) Write a function that takes in a string (likely multiple words long) and returns that string with each word reversed, but with the words in the same order.\n",
    "* _Example:_ `letter_reverser('Data science is cool') == 'ataD ecneics si looc'`"
   ]
  },
  {
   "cell_type": "code",
   "execution_count": 35,
   "metadata": {},
   "outputs": [
    {
     "name": "stdout",
     "output_type": "stream",
     "text": [
      "ataD ecneics si looc\n"
     ]
    },
    {
     "data": {
      "text/plain": [
       "True"
      ]
     },
     "execution_count": 35,
     "metadata": {},
     "output_type": "execute_result"
    }
   ],
   "source": [
    "def letter_reverser(words):\n",
    "    return ' '.join([word[::-1] for word in words.split()])\n",
    "\n",
    "print(letter_reverser('Data science is cool'))\n",
    "# check result\n",
    "letter_reverser('Data science is cool') == 'ataD ecneics si looc'"
   ]
  },
  {
   "cell_type": "markdown",
   "metadata": {},
   "source": [
    "87) Write a function that converts a string to \"leet speak\". Leet speak is a made-up internet language which you replace characters with symbols that look like those characters. For example:\n",
    "\n",
    "* _Example:_ `to_leet_speak('i am elite') == '! @M 31!73'`\n",
    "* _Hint:_ Recall what `.get()` does when called on a dictionary? Will this help you with spaces or other non-letter characters?\n",
    "\n",
    "_Note:_ This problem is borrowed from [this](https://www.codewars.com/kata/toleetspeak) wonderful Codewars challenge!\n",
    "\n",
    "Below is the English-to-leet dictionary:"
   ]
  },
  {
   "cell_type": "code",
   "execution_count": 37,
   "metadata": {},
   "outputs": [],
   "source": [
    "LEET_DICT = {'A' : '@', 'B' : '8', 'C' : '(', 'D' : 'D', 'E' : '3',\n",
    "             'F' : 'F', 'G' : '6', 'H' : '#', 'I' : '!', 'J' : 'J',\n",
    "             'K' : 'K', 'L' : '1', 'M' : 'M', 'N' : 'N', 'O' : '0',\n",
    "             'P' : 'P', 'Q' : 'Q', 'R' : 'R', 'S' : '$', 'T' : '7',\n",
    "             'U' : 'U', 'V' : 'V', 'W' : 'W', 'X' : 'X', 'Y' : 'Y',\n",
    "             'Z' : '2'}"
   ]
  },
  {
   "cell_type": "code",
   "execution_count": 38,
   "metadata": {},
   "outputs": [
    {
     "name": "stdout",
     "output_type": "stream",
     "text": [
      "! @M 31!73\n"
     ]
    },
    {
     "data": {
      "text/plain": [
       "True"
      ]
     },
     "execution_count": 38,
     "metadata": {},
     "output_type": "execute_result"
    }
   ],
   "source": [
    "def to_leet_speak(word):\n",
    "    return ''.join([LEET_DICT.get(char.upper(), char) for char in word])\n",
    "\n",
    "print(to_leet_speak('i am elite'))\n",
    "# check result\n",
    "to_leet_speak('i am elite') == '! @M 31!73'"
   ]
  },
  {
   "cell_type": "markdown",
   "metadata": {},
   "source": [
    "87) Write an `is_prime` function that takes in a number and returns a boolean of whether or not that number was prime. (_Hint:_ You already did this in a previous section.)\n",
    "\n",
    "* _Example:_ `is_prime(5) == True`\n",
    "* _Example:_ `is_prime(6) == False`"
   ]
  },
  {
   "cell_type": "code",
   "execution_count": 40,
   "metadata": {},
   "outputs": [],
   "source": [
    "def is_prime(num):\n",
    "    if num <= 1:\n",
    "        return False\n",
    "    # loop through from 2 to num\n",
    "    for i in range(2, num+1):\n",
    "        # if num != i and num divisible by i, it not prime\n",
    "        if i != num and not num % i:\n",
    "            return False\n",
    "    return True\n",
    "\n",
    "#print(1, is_prime(1)) # False\n",
    "#print(2, is_prime(2)) # True\n",
    "#print(3, is_prime(3)) # True\n",
    "#print(4, is_prime(4)) # False\n",
    "#print(9, is_prime(9)) # False\n",
    "#print(11, is_prime(11)) # True"
   ]
  },
  {
   "cell_type": "markdown",
   "metadata": {},
   "source": [
    "88) Write a function that takes in a number and returns the sum of all primes less than or equal to that number. You'll need your answer to the previous problem to answer this.\n",
    "* _Example:_ `sum_primes(11) == 2 + 3 + 5 + 7 + 11 == 28`\n",
    "* _Bonus:_ Can you do this in one line with a list comprehension?"
   ]
  },
  {
   "cell_type": "code",
   "execution_count": 42,
   "metadata": {},
   "outputs": [
    {
     "name": "stdout",
     "output_type": "stream",
     "text": [
      "28\n",
      "True\n"
     ]
    }
   ],
   "source": [
    "def sum_primes(num):\n",
    "    res = 0\n",
    "    if num <= 1:\n",
    "        return\n",
    "    for i in range(2, num+1):\n",
    "        if is_prime(i):\n",
    "            res += i\n",
    "    return res\n",
    "\n",
    "print(sum_primes(11))\n",
    "# check result\n",
    "print(sum_primes(11) == 28)"
   ]
  },
  {
   "cell_type": "markdown",
   "metadata": {},
   "source": [
    "# Section VIII: What's next?"
   ]
  },
  {
   "cell_type": "markdown",
   "metadata": {},
   "source": [
    "## Section VIIIa: Virtual Practice\n",
    "\n",
    "Now that we've got a handle on the basics (and a few problems much more difficult than \"basic\"), what do we do next? If you'd like some more difficult challenges, sign up for [Codewars](https://www.codewars.com)! Codewars is a website in which you are repeatedly given coding challenges that get progressively more difficult. You earn XP and level up, giving you harder and harder problems. Below is an ever-updating list of coding challenges that we recommend. Some of them are Codewars challenges, some from other resources:"
   ]
  },
  {
   "cell_type": "markdown",
   "metadata": {},
   "source": [
    "* [Run-length Encoding](https://www.codewars.com/kata/run-length-encoding-1) (Codewars)\n",
    "* [Permutations](https://leetcode.com/problems/permutations/) (Leetcode)\n",
    "* [\"1-Dimensional Candy Crush\"](https://leetcode.com/discuss/interview-question/380650/bloomberg-phone-screen-candy-crush-1d) (Leetcode)"
   ]
  },
  {
   "cell_type": "markdown",
   "metadata": {},
   "source": [
    "## Section VIIIb: Real Interview Challenges\n",
    "Below are interesting challenges stolen directly from real interviews! These challenges have been reported from both GA students and GA instructors. If you find a good one in your future interviews, please come back and tell us! This section of the ladder is ever-updating."
   ]
  },
  {
   "cell_type": "markdown",
   "metadata": {},
   "source": [
    "### File Permissions\n",
    "In UNIX-like systems (eg, Mac and Linux), the permissions on certain files are given by short 9-character codes. These characters represent the read (**r**), write (**w**), and execute (**x**) permissions of the owner, assigned group, and all users, respectively. For example, the code\n",
    "\n",
    "`rwx------`\n",
    "\n",
    "means the file owner has all 3 kinds of permissions, but no one else can do anything. Another common code is \n",
    "\n",
    "`rwxr-xr-x`\n",
    "\n",
    "which means that everyone can read and execute the file, but only the owner has permission to write to it (that is, to change it). You can see these permissions yourself by typing `ls -l` from your command line!\n",
    "\n",
    "In order to further save space, these codes are often saved as a 3-digit number, where each digit corresponds to the sum of the values of `r`, `w`, and `x`. `r` is worth 4, `w` is worth 2, `x` is worth 1, and `-` is worth 0. For example, `rwx------` is shortened to the code `700`, and `rwxr-xr-x` is `755`.\n",
    "\n",
    "Your challenge is to write a function that shortens the \"permission string\" to its corresponding \"permission code\" (properly known as its \"octal notation\"). Please note that the output of your function should be an integer, not a string! You can assume the \"permission string\" is always valid.\n",
    "\n",
    "* _Example:_ `permissions_to_octal(\"rwxr-xr-x\") = 755`"
   ]
  },
  {
   "cell_type": "code",
   "execution_count": 48,
   "metadata": {},
   "outputs": [
    {
     "name": "stdout",
     "output_type": "stream",
     "text": [
      "755\n",
      "True\n"
     ]
    }
   ],
   "source": [
    "def permissions_to_octal(p):\n",
    "    perm_str = ''\n",
    "    perm_num = {'r': 4, 'w': 2, 'x': 1, '-': 0}\n",
    "    \"\"\"Returns the 3-digit octal code given permissions string `p`, e.g. 'rwxr-xr-x' is 755.\"\"\"\n",
    "    for i in range(0,9,3):\n",
    "        # convert each perm code to num and concat them\n",
    "        perm_str += str(perm_num.get(p[i], '0') + perm_num.get(p[1 + i], '0') + perm_num.get(p[2 + i], '0'))\n",
    "    # convert str to integer\n",
    "    return int(perm_str)\n",
    "\n",
    "print(permissions_to_octal(\"rwxr-xr-x\"))\n",
    "# check result\n",
    "print(permissions_to_octal(\"rwxr-xr-x\") == 755)"
   ]
  },
  {
   "cell_type": "markdown",
   "metadata": {},
   "source": [
    "### Grocery Bags\n",
    "A large grocery bag can hold 5 items, while a small grocery bag can hold only 1. The numbers of each size bag available may be limited. All items must be placed in a bag and each bag must be filled completely. For example, if we have 16 items, 2 large bags, and 10 small bags, 8 total bags are needed. 2 large bags + 6 small bags = 16 items in 8 bags.\n",
    "\n",
    "Write a function to calculate the **minimum** number of bags needed. If it's not possible to meet these conditions, return `-1`.\n",
    "\n",
    "* `min_bags(16, 2, 10) = 8`\n",
    "* `min_bags(20, 2, 2) = -1`"
   ]
  },
  {
   "cell_type": "code",
   "execution_count": 50,
   "metadata": {},
   "outputs": [
    {
     "name": "stdout",
     "output_type": "stream",
     "text": [
      "8\n",
      "-1\n",
      "True\n",
      "True\n"
     ]
    }
   ],
   "source": [
    "def min_bags(num_items, avail_large, avail_small):\n",
    "    \"\"\"\n",
    "    Return the least number of bags needed to hold `num_items` items, given there are only:\n",
    "        + `avail_large` 5-item bags, and \n",
    "        + `avail_small` 1-item bags.\n",
    "    \"\"\"\n",
    "    # find required large bag num\n",
    "    require_large_bag_num = num_items // 5\n",
    "    # \n",
    "    if require_large_bag_num > avail_large:\n",
    "        require_large_bag_num = avail_large\n",
    "    remain_items = num_items - (require_large_bag_num * 5)\n",
    "    # find required small bag num\n",
    "    require_small_bag_num = remain_items\n",
    "    if require_small_bag_num > avail_small:\n",
    "        return -1\n",
    "    return int(require_large_bag_num + require_small_bag_num)\n",
    "        \n",
    "print(min_bags(16, 2, 10))\n",
    "print(min_bags(20, 2, 2))\n",
    "# check result\n",
    "print(min_bags(16, 2, 10) == 8)\n",
    "print(min_bags(20, 2, 2) == -1)"
   ]
  },
  {
   "cell_type": "code",
   "execution_count": null,
   "metadata": {},
   "outputs": [],
   "source": []
  }
 ],
 "metadata": {
  "kernelspec": {
   "display_name": "Python 3 (ipykernel)",
   "language": "python",
   "name": "python3"
  },
  "language_info": {
   "codemirror_mode": {
    "name": "ipython",
    "version": 3
   },
   "file_extension": ".py",
   "mimetype": "text/x-python",
   "name": "python",
   "nbconvert_exporter": "python",
   "pygments_lexer": "ipython3",
   "version": "3.12.4"
  }
 },
 "nbformat": 4,
 "nbformat_minor": 4
}
